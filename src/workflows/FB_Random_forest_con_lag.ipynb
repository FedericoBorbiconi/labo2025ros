{
 "cells": [
  {
   "cell_type": "markdown",
   "id": "859d38e7-11c0-48bc-978a-d0e907f19ed1",
   "metadata": {
    "id": "859d38e7-11c0-48bc-978a-d0e907f19ed1"
   },
   "source": [
    "# 7 WorkFlow"
   ]
  },
  {
   "cell_type": "markdown",
   "id": "29c586e3-ed7d-44b2-92a0-f19669f06940",
   "metadata": {
    "id": "29c586e3-ed7d-44b2-92a0-f19669f06940"
   },
   "source": [
    "### 7.1 Objetivo"
   ]
  },
  {
   "cell_type": "markdown",
   "id": "6fff8327-10ed-4b11-bbee-f1c3f357d123",
   "metadata": {
    "id": "6fff8327-10ed-4b11-bbee-f1c3f357d123"
   },
   "source": [
    "Presentar un workflow/pipeline completo al que los estudiantes deberán enriquecer"
   ]
  },
  {
   "cell_type": "markdown",
   "id": "PX0qg_c0yqob",
   "metadata": {
    "id": "PX0qg_c0yqob"
   },
   "source": [
    "#### 7.2  Seteo del ambiente en Google Colab"
   ]
  },
  {
   "cell_type": "markdown",
   "id": "NGY7H9xza7Zr",
   "metadata": {
    "id": "NGY7H9xza7Zr"
   },
   "source": [
    "Esta parte se debe correr con el runtime en Python3\n",
    "<br>Ir al menu, Runtime -> Change Runtime Type -> Runtime type ->  **Python 3**"
   ]
  },
  {
   "cell_type": "markdown",
   "id": "7PupIBNba7Zr",
   "metadata": {
    "id": "7PupIBNba7Zr"
   },
   "source": [
    "Conectar la virtual machine donde esta corriendo Google Colab con el  Google Drive, para poder tener persistencia de archivos"
   ]
  },
  {
   "cell_type": "code",
   "execution_count": null,
   "id": "9LpZCst5a7Zs",
   "metadata": {
    "id": "9LpZCst5a7Zs"
   },
   "outputs": [],
   "source": [
    "# primero establecer el Runtime de Python 3\n",
    "from google.colab import drive\n",
    "drive.mount('/content/.drive')"
   ]
  },
  {
   "cell_type": "markdown",
   "id": "JYC_F-wla7Zs",
   "metadata": {
    "id": "JYC_F-wla7Zs"
   },
   "source": [
    "Para correr la siguiente celda es fundamental en Arranque en Frio haber copiado el archivo kaggle.json al Google Drive, en la carpeta indicada en el instructivo\n",
    "\n",
    "<br>los siguientes comando estan en shell script de Linux\n",
    "*   Crear las carpetas en el Google Drive\n",
    "*   \"instalar\" el archivo kaggle.json desde el Google Drive a la virtual machine para que pueda ser utilizado por la libreria  kaggle de Python\n",
    "*   Bajar el  **dataset_pequeno**  al  Google Drive  y tambien al disco local de la virtual machine que esta corriendo Google Colab\n",
    "*   Bajar el **dataset_historico** al Google Drive y tambien al disco local de la virtual machine que esta corriendo Google Colab\n",
    "\n"
   ]
  },
  {
   "cell_type": "markdown",
   "id": "4fcqHsG9hdlx",
   "metadata": {
    "id": "4fcqHsG9hdlx"
   },
   "source": [
    "*  Si usted eligió modalidad *Gerencial* entonces NO debe modificar nada, su liderazgo logró que otras trabajaron por usted\n",
    "*  Si usted eligió modalidad de *Analista Junior*, entonces donde dice archivo=\"gerencial_competencia_2025.csv.gz\"  lo debe cambiar por  archivo=\"analistajr_competencia_2025.csv.gz\"\n",
    "*  Si usted eligió modalidad *Analista Senior*,  ya se las ingenierá SIN preguntar !"
   ]
  },
  {
   "cell_type": "code",
   "execution_count": null,
   "id": "XWLelftXa7Zt",
   "metadata": {
    "id": "XWLelftXa7Zt"
   },
   "outputs": [],
   "source": [
    "%%shell\n",
    "\n",
    "mkdir -p \"/content/.drive/My Drive/labo1\"\n",
    "mkdir -p \"/content/buckets\"\n",
    "ln -s \"/content/.drive/My Drive/labo1\" /content/buckets/b1\n",
    "\n",
    "mkdir -p ~/.kaggle\n",
    "cp /content/buckets/b1/kaggle/kaggle.json  ~/.kaggle\n",
    "chmod 600 ~/.kaggle/kaggle.json\n",
    "\n",
    "\n",
    "mkdir -p /content/buckets/b1/exp\n",
    "mkdir -p /content/buckets/b1/datasets\n",
    "mkdir -p /content/datasets\n",
    "\n",
    "\n",
    "webfiles=\"https://storage.googleapis.com/open-courses/austral2025-af91/labo1r\"\n",
    "destino_local=\"/content/datasets\"\n",
    "destino_bucket=\"/content/buckets/b1/datasets\"\n",
    "\n",
    "\n",
    "archivo=\"dataset_pequeno.csv\"\n",
    "\n",
    "if ! test -f $destino_bucket/$archivo; then\n",
    "  wget  $webfiles/$archivo  -O $destino_bucket/$archivo\n",
    "fi\n",
    "\n",
    "\n",
    "if ! test -f $destino_local/$pequeno; then\n",
    "  cp  $destino_bucket/$archivo  $destino_local/$archivo\n",
    "fi\n",
    "\n",
    "#-------\n",
    "\n",
    "archivo=\"gerencial_competencia_2025.csv.gz\"\n",
    "\n",
    "if ! test -f $destino_bucket/$archivo; then\n",
    "  wget  $webfiles/$archivo  -O $destino_bucket/$archivo\n",
    "fi\n",
    "\n",
    "\n",
    "if ! test -f $destino_local/$pequeno; then\n",
    "  cp  $destino_bucket/$archivo  $destino_local/$archivo\n",
    "fi\n"
   ]
  },
  {
   "cell_type": "markdown",
   "id": "oSKhZRToy2F7",
   "metadata": {
    "id": "oSKhZRToy2F7"
   },
   "source": [
    "## 7.3  Workflow"
   ]
  },
  {
   "cell_type": "markdown",
   "id": "85171302-a2d6-48cb-b9b2-8d839a276859",
   "metadata": {
    "id": "85171302-a2d6-48cb-b9b2-8d839a276859"
   },
   "source": [
    "## Inicializacion"
   ]
  },
  {
   "cell_type": "markdown",
   "id": "eSU5vi00CPRS",
   "metadata": {
    "id": "eSU5vi00CPRS"
   },
   "source": [
    "Esta parte se debe correr con el runtime en lenguaje **R** Ir al menu, Runtime -> Change Runtime Type -> Runtime type -> R"
   ]
  },
  {
   "cell_type": "markdown",
   "id": "Zq8dySimCPRT",
   "metadata": {
    "id": "Zq8dySimCPRT"
   },
   "source": [
    "limpio el ambiente de R"
   ]
  },
  {
   "cell_type": "code",
   "execution_count": 1,
   "id": "EL8wdHaUs59K",
   "metadata": {
    "id": "EL8wdHaUs59K"
   },
   "outputs": [
    {
     "data": {
      "text/html": [
       "'Thu Jul 03 01:31:41 2025'"
      ],
      "text/latex": [
       "'Thu Jul 03 01:31:41 2025'"
      ],
      "text/markdown": [
       "'Thu Jul 03 01:31:41 2025'"
      ],
      "text/plain": [
       "[1] \"Thu Jul 03 01:31:41 2025\""
      ]
     },
     "metadata": {},
     "output_type": "display_data"
    }
   ],
   "source": [
    "format(Sys.time(), \"%a %b %d %X %Y\")"
   ]
  },
  {
   "cell_type": "code",
   "execution_count": 2,
   "id": "1iE0U4_WCPRT",
   "metadata": {
    "id": "1iE0U4_WCPRT"
   },
   "outputs": [
    {
     "data": {
      "text/html": [
       "<table class=\"dataframe\">\n",
       "<caption>A matrix: 2 × 6 of type dbl</caption>\n",
       "<thead>\n",
       "\t<tr><th></th><th scope=col>used</th><th scope=col>(Mb)</th><th scope=col>gc trigger</th><th scope=col>(Mb)</th><th scope=col>max used</th><th scope=col>(Mb)</th></tr>\n",
       "</thead>\n",
       "<tbody>\n",
       "\t<tr><th scope=row>Ncells</th><td> 653531</td><td>35.0</td><td>1439340</td><td>76.9</td><td>1383159</td><td>73.9</td></tr>\n",
       "\t<tr><th scope=row>Vcells</th><td>1218206</td><td> 9.3</td><td>8388608</td><td>64.0</td><td>1924957</td><td>14.7</td></tr>\n",
       "</tbody>\n",
       "</table>\n"
      ],
      "text/latex": [
       "A matrix: 2 × 6 of type dbl\n",
       "\\begin{tabular}{r|llllll}\n",
       "  & used & (Mb) & gc trigger & (Mb) & max used & (Mb)\\\\\n",
       "\\hline\n",
       "\tNcells &  653531 & 35.0 & 1439340 & 76.9 & 1383159 & 73.9\\\\\n",
       "\tVcells & 1218206 &  9.3 & 8388608 & 64.0 & 1924957 & 14.7\\\\\n",
       "\\end{tabular}\n"
      ],
      "text/markdown": [
       "\n",
       "A matrix: 2 × 6 of type dbl\n",
       "\n",
       "| <!--/--> | used | (Mb) | gc trigger | (Mb) | max used | (Mb) |\n",
       "|---|---|---|---|---|---|---|\n",
       "| Ncells |  653531 | 35.0 | 1439340 | 76.9 | 1383159 | 73.9 |\n",
       "| Vcells | 1218206 |  9.3 | 8388608 | 64.0 | 1924957 | 14.7 |\n",
       "\n"
      ],
      "text/plain": [
       "       used    (Mb) gc trigger (Mb) max used (Mb)\n",
       "Ncells  653531 35.0 1439340    76.9 1383159  73.9\n",
       "Vcells 1218206  9.3 8388608    64.0 1924957  14.7"
      ]
     },
     "metadata": {},
     "output_type": "display_data"
    }
   ],
   "source": [
    "# limpio la memoria\n",
    "rm(list=ls(all.names=TRUE)) # remove all objects\n",
    "gc(full=TRUE, verbose=FALSE) # garbage collection"
   ]
  },
  {
   "cell_type": "code",
   "execution_count": 3,
   "id": "atmIUEUNUrK5",
   "metadata": {
    "id": "atmIUEUNUrK5"
   },
   "outputs": [
    {
     "name": "stderr",
     "output_type": "stream",
     "text": [
      "Loading required package: data.table\n",
      "\n",
      "Loading required package: R.utils\n",
      "\n",
      "Loading required package: R.oo\n",
      "\n",
      "Loading required package: R.methodsS3\n",
      "\n",
      "R.methodsS3 v1.8.2 (2022-06-13 22:00:14 UTC) successfully loaded. See ?R.methodsS3 for help.\n",
      "\n",
      "R.oo v1.27.1 (2025-05-02 21:00:05 UTC) successfully loaded. See ?R.oo for help.\n",
      "\n",
      "\n",
      "Attaching package: ‘R.oo’\n",
      "\n",
      "\n",
      "The following object is masked from ‘package:R.methodsS3’:\n",
      "\n",
      "    throw\n",
      "\n",
      "\n",
      "The following objects are masked from ‘package:methods’:\n",
      "\n",
      "    getClasses, getMethods\n",
      "\n",
      "\n",
      "The following objects are masked from ‘package:base’:\n",
      "\n",
      "    attach, detach, load, save\n",
      "\n",
      "\n",
      "R.utils v2.13.0 (2025-02-24 21:20:02 UTC) successfully loaded. See ?R.utils for help.\n",
      "\n",
      "\n",
      "Attaching package: ‘R.utils’\n",
      "\n",
      "\n",
      "The following object is masked from ‘package:utils’:\n",
      "\n",
      "    timestamp\n",
      "\n",
      "\n",
      "The following objects are masked from ‘package:base’:\n",
      "\n",
      "    cat, commandArgs, getOption, isOpen, nullfile, parse, use, warnings\n",
      "\n",
      "\n"
     ]
    }
   ],
   "source": [
    "require(\"data.table\")\n",
    "\n",
    "if( !require(\"R.utils\")) install.packages(\"R.utils\")\n",
    "require(\"R.utils\")"
   ]
  },
  {
   "cell_type": "markdown",
   "id": "BsxZ_ONyj9L_",
   "metadata": {
    "id": "BsxZ_ONyj9L_"
   },
   "source": [
    "#### Parametros\n",
    "Si es gerente, no cambie nada\n",
    "<br>Si es Analista, cambie el nombre del dataset"
   ]
  },
  {
   "cell_type": "code",
   "execution_count": 4,
   "id": "peRH7ySLCPRV",
   "metadata": {
    "id": "peRH7ySLCPRV"
   },
   "outputs": [],
   "source": [
    "PARAM <- list()\n",
    "PARAM$semilla_primigenia <- 777743\n",
    "\n",
    "PARAM$experimento <- \" - Random Forest con lag 50\"\n",
    "PARAM$dataset <- \"analistasr_competencia_2025.csv.gz\""
   ]
  },
  {
   "cell_type": "markdown",
   "id": "NoJbKo_4NG8A",
   "metadata": {
    "id": "NoJbKo_4NG8A"
   },
   "source": [
    "#### Carpeta del Experimento"
   ]
  },
  {
   "cell_type": "code",
   "execution_count": 5,
   "id": "1gZD6ZMvCPRV",
   "metadata": {
    "id": "1gZD6ZMvCPRV"
   },
   "outputs": [],
   "source": [
    "# carpeta de trabajo\n",
    "\n",
    "setwd(\"/content/buckets/b1/exp\")\n",
    "experimento_folder <- paste0(\"WF\", PARAM$experimento)\n",
    "dir.create(experimento_folder, showWarnings=FALSE)\n",
    "setwd( paste0(\"/content/buckets/b1/exp/\", experimento_folder ))"
   ]
  },
  {
   "cell_type": "markdown",
   "id": "YVKBfLtkR8SO",
   "metadata": {
    "id": "YVKBfLtkR8SO"
   },
   "source": [
    "### 7.3.1   Preprocesamiento del dataset"
   ]
  },
  {
   "cell_type": "markdown",
   "id": "cr3K0RPVRjq6",
   "metadata": {
    "id": "cr3K0RPVRjq6"
   },
   "source": [
    "#### 7.3.1.1  DT incorporar dataset"
   ]
  },
  {
   "cell_type": "code",
   "execution_count": 6,
   "id": "Xi0emX2ECPRV",
   "metadata": {
    "id": "Xi0emX2ECPRV"
   },
   "outputs": [],
   "source": [
    "# lectura del dataset\n",
    "dataset <- fread(paste0(\"/content/buckets/b1/datasets/\", PARAM$dataset))"
   ]
  },
  {
   "cell_type": "markdown",
   "id": "MWuPzK3nSLY3",
   "metadata": {
    "id": "MWuPzK3nSLY3"
   },
   "source": [
    "#### 7.3.1.2  CA  Catastrophe Analysis\n",
    "Se intentan reparar las variables que para un mes están con todos los valores en cero."
   ]
  },
  {
   "cell_type": "markdown",
   "id": "UAI16-yCVcBS",
   "metadata": {
    "id": "UAI16-yCVcBS"
   },
   "source": [
    "El método que se utiliza es **Machine Learning** se asigna NA also valores, si ha leido bien, es la \"anti imputación de valores faltantes\"\n",
    "<br> Usted podrá aplicar aquí otros métodos"
   ]
  },
  {
   "cell_type": "code",
   "execution_count": 7,
   "id": "sTmliO_FXv9E",
   "metadata": {
    "id": "sTmliO_FXv9E"
   },
   "outputs": [],
   "source": [
    "dataset[ foto_mes==202006, internet:=NA]\n",
    "dataset[ foto_mes==202006, mrentabilidad:=NA]\n",
    "dataset[ foto_mes==202006, mrentabilidad_annual:=NA]\n",
    "dataset[ foto_mes==202006, mcomisiones:=NA]\n",
    "dataset[ foto_mes==202006, mactivos_margen:=NA]\n",
    "dataset[ foto_mes==202006, mpasivos_margen:=NA]\n",
    "dataset[ foto_mes==202006, mcuentas_saldo:=NA]\n",
    "dataset[ foto_mes==202006, ctarjeta_visa_transacciones:=NA]\n",
    "dataset[ foto_mes==202006, mtarjeta_visa_consumo:=NA]\n",
    "dataset[ foto_mes==202006, mtarjeta_master_consumo:=NA]\n",
    "dataset[ foto_mes==202006, ccallcenter_transacciones:=NA]\n",
    "dataset[ foto_mes==202006, chomebanking_transacciones:=NA]\n",
    "dataset[ foto_mes==202006, chomebanking_transacciones:=NA]"
   ]
  },
  {
   "cell_type": "markdown",
   "id": "-4NiANYFSYHG",
   "metadata": {
    "id": "-4NiANYFSYHG"
   },
   "source": [
    "#### 7.3.1.3  DR  Data Drifting\n",
    "Se intenta corregir el data drifting, quizas ajustando por IPC ...\n",
    "<br>Esta parte podrá ser abordada por todos los Analistas y también la Gerenciapero se decide pedagogicamente no incluirla en esta primer version para reducir la carga cognitiva"
   ]
  },
  {
   "cell_type": "code",
   "execution_count": 8,
   "id": "L85A2lwKSe3k",
   "metadata": {
    "id": "L85A2lwKSe3k"
   },
   "outputs": [],
   "source": [
    "# sin codigo en esta primera version del workflow"
   ]
  },
  {
   "cell_type": "markdown",
   "id": "7sppIDYeSn5X",
   "metadata": {
    "id": "7sppIDYeSn5X"
   },
   "source": [
    "#### 7.3.1.3  FE_intra_manual Feature Engineering intra-mes\n",
    "\n",
    "Agrego campos nuevos dentro del mismo mes, SIN considerar la historia."
   ]
  },
  {
   "cell_type": "code",
   "execution_count": 9,
   "id": "qrqf3j3_St3p",
   "metadata": {
    "id": "qrqf3j3_St3p"
   },
   "outputs": [],
   "source": [
    "# esta funcion atributos presentes existe debido a que las modalidades poseen datasets con distinta cantidad de campos\n",
    "atributos_presentes <- function( patributos )\n",
    "{\n",
    "  atributos <- unique( patributos )\n",
    "  comun <- intersect( atributos, colnames(dataset) )\n",
    "\n",
    "  return(  length( atributos ) == length( comun ) )\n",
    "}\n",
    "\n",
    "# el mes 1,2, ..12\n",
    "if( atributos_presentes( c(\"foto_mes\") ))\n",
    "  dataset[, kmes := foto_mes %% 100]\n",
    "\n",
    "# variable extraida de una tesis de maestria de Irlanda\n",
    "if( atributos_presentes( c(\"mpayroll\", \"cliente_edad\") ))\n",
    "  dataset[, mpayroll_sobre_edad := mpayroll / cliente_edad]\n"
   ]
  },
  {
   "cell_type": "code",
   "execution_count": 10,
   "id": "iC4viwOdY5Kp",
   "metadata": {
    "id": "iC4viwOdY5Kp"
   },
   "outputs": [
    {
     "data": {
      "text/html": [
       "<style>\n",
       ".list-inline {list-style: none; margin:0; padding: 0}\n",
       ".list-inline>li {display: inline-block}\n",
       ".list-inline>li:not(:last-child)::after {content: \"\\00b7\"; padding: 0 .5ex}\n",
       "</style>\n",
       "<ol class=list-inline><li>'numero_de_cliente'</li><li>'foto_mes'</li><li>'active_quarter'</li><li>'cliente_vip'</li><li>'internet'</li><li>'cliente_edad'</li><li>'cliente_antiguedad'</li><li>'mrentabilidad'</li><li>'mrentabilidad_annual'</li><li>'mcomisiones'</li><li>'mactivos_margen'</li><li>'mpasivos_margen'</li><li>'cproductos'</li><li>'tcuentas'</li><li>'ccuenta_corriente'</li><li>'mcuenta_corriente_adicional'</li><li>'mcuenta_corriente'</li><li>'ccaja_ahorro'</li><li>'mcaja_ahorro'</li><li>'mcaja_ahorro_adicional'</li><li>'mcaja_ahorro_dolares'</li><li>'cdescubierto_preacordado'</li><li>'mcuentas_saldo'</li><li>'ctarjeta_debito'</li><li>'ctarjeta_debito_transacciones'</li><li>'mautoservicio'</li><li>'ctarjeta_visa'</li><li>'ctarjeta_visa_transacciones'</li><li>'mtarjeta_visa_consumo'</li><li>'ctarjeta_master'</li><li>'ctarjeta_master_transacciones'</li><li>'mtarjeta_master_consumo'</li><li>'cprestamos_personales'</li><li>'mprestamos_personales'</li><li>'cprestamos_prendarios'</li><li>'mprestamos_prendarios'</li><li>'cprestamos_hipotecarios'</li><li>'mprestamos_hipotecarios'</li><li>'cplazo_fijo'</li><li>'mplazo_fijo_dolares'</li><li>'mplazo_fijo_pesos'</li><li>'cinversion1'</li><li>'minversion1_pesos'</li><li>'minversion1_dolares'</li><li>'cinversion2'</li><li>'minversion2'</li><li>'cseguro_vida'</li><li>'cseguro_auto'</li><li>'cseguro_vivienda'</li><li>'cseguro_accidentes_personales'</li><li>'ccaja_seguridad'</li><li>'cpayroll_trx'</li><li>'mpayroll'</li><li>'mpayroll2'</li><li>'cpayroll2_trx'</li><li>'ccuenta_debitos_automaticos'</li><li>'mcuenta_debitos_automaticos'</li><li>'ctarjeta_visa_debitos_automaticos'</li><li>'mttarjeta_visa_debitos_automaticos'</li><li>'ctarjeta_master_debitos_automaticos'</li><li>'mttarjeta_master_debitos_automaticos'</li><li>'cpagodeservicios'</li><li>'mpagodeservicios'</li><li>'cpagomiscuentas'</li><li>'mpagomiscuentas'</li><li>'ccajeros_propios_descuentos'</li><li>'mcajeros_propios_descuentos'</li><li>'ctarjeta_visa_descuentos'</li><li>'mtarjeta_visa_descuentos'</li><li>'ctarjeta_master_descuentos'</li><li>'mtarjeta_master_descuentos'</li><li>'ccomisiones_mantenimiento'</li><li>'mcomisiones_mantenimiento'</li><li>'ccomisiones_otras'</li><li>'mcomisiones_otras'</li><li>'cforex'</li><li>'cforex_buy'</li><li>'mforex_buy'</li><li>'cforex_sell'</li><li>'mforex_sell'</li><li>'ctransferencias_recibidas'</li><li>'mtransferencias_recibidas'</li><li>'ctransferencias_emitidas'</li><li>'mtransferencias_emitidas'</li><li>'cextraccion_autoservicio'</li><li>'mextraccion_autoservicio'</li><li>'ccheques_depositados'</li><li>'mcheques_depositados'</li><li>'ccheques_emitidos'</li><li>'mcheques_emitidos'</li><li>'ccheques_depositados_rechazados'</li><li>'mcheques_depositados_rechazados'</li><li>'ccheques_emitidos_rechazados'</li><li>'mcheques_emitidos_rechazados'</li><li>'tcallcenter'</li><li>'ccallcenter_transacciones'</li><li>'thomebanking'</li><li>'chomebanking_transacciones'</li><li>'ccajas_transacciones'</li><li>'ccajas_consultas'</li><li>'ccajas_depositos'</li><li>'ccajas_extracciones'</li><li>'ccajas_otras'</li><li>'catm_trx'</li><li>'matm'</li><li>'catm_trx_other'</li><li>'matm_other'</li><li>'ctrx_quarter'</li><li>'tmobile_app'</li><li>'cmobile_app_trx'</li><li>'Master_delinquency'</li><li>'Master_status'</li><li>'Master_mfinanciacion_limite'</li><li>'Master_Fvencimiento'</li><li>'Master_Finiciomora'</li><li>'Master_msaldototal'</li><li>'Master_msaldopesos'</li><li>'Master_msaldodolares'</li><li>'Master_mconsumospesos'</li><li>'Master_mconsumosdolares'</li><li>'Master_mlimitecompra'</li><li>'Master_madelantopesos'</li><li>'Master_madelantodolares'</li><li>'Master_fultimo_cierre'</li><li>'Master_mpagado'</li><li>'Master_mpagospesos'</li><li>'Master_mpagosdolares'</li><li>'Master_fechaalta'</li><li>'Master_mconsumototal'</li><li>'Master_cconsumos'</li><li>'Master_cadelantosefectivo'</li><li>'Master_mpagominimo'</li><li>'Visa_delinquency'</li><li>'Visa_status'</li><li>'Visa_mfinanciacion_limite'</li><li>'Visa_Fvencimiento'</li><li>'Visa_Finiciomora'</li><li>'Visa_msaldototal'</li><li>'Visa_msaldopesos'</li><li>'Visa_msaldodolares'</li><li>'Visa_mconsumospesos'</li><li>'Visa_mconsumosdolares'</li><li>'Visa_mlimitecompra'</li><li>'Visa_madelantopesos'</li><li>'Visa_madelantodolares'</li><li>'Visa_fultimo_cierre'</li><li>'Visa_mpagado'</li><li>'Visa_mpagospesos'</li><li>'Visa_mpagosdolares'</li><li>'Visa_fechaalta'</li><li>'Visa_mconsumototal'</li><li>'Visa_cconsumos'</li><li>'Visa_cadelantosefectivo'</li><li>'Visa_mpagominimo'</li><li>'clase_ternaria'</li><li>'kmes'</li><li>'mpayroll_sobre_edad'</li></ol>\n"
      ],
      "text/latex": [
       "\\begin{enumerate*}\n",
       "\\item 'numero\\_de\\_cliente'\n",
       "\\item 'foto\\_mes'\n",
       "\\item 'active\\_quarter'\n",
       "\\item 'cliente\\_vip'\n",
       "\\item 'internet'\n",
       "\\item 'cliente\\_edad'\n",
       "\\item 'cliente\\_antiguedad'\n",
       "\\item 'mrentabilidad'\n",
       "\\item 'mrentabilidad\\_annual'\n",
       "\\item 'mcomisiones'\n",
       "\\item 'mactivos\\_margen'\n",
       "\\item 'mpasivos\\_margen'\n",
       "\\item 'cproductos'\n",
       "\\item 'tcuentas'\n",
       "\\item 'ccuenta\\_corriente'\n",
       "\\item 'mcuenta\\_corriente\\_adicional'\n",
       "\\item 'mcuenta\\_corriente'\n",
       "\\item 'ccaja\\_ahorro'\n",
       "\\item 'mcaja\\_ahorro'\n",
       "\\item 'mcaja\\_ahorro\\_adicional'\n",
       "\\item 'mcaja\\_ahorro\\_dolares'\n",
       "\\item 'cdescubierto\\_preacordado'\n",
       "\\item 'mcuentas\\_saldo'\n",
       "\\item 'ctarjeta\\_debito'\n",
       "\\item 'ctarjeta\\_debito\\_transacciones'\n",
       "\\item 'mautoservicio'\n",
       "\\item 'ctarjeta\\_visa'\n",
       "\\item 'ctarjeta\\_visa\\_transacciones'\n",
       "\\item 'mtarjeta\\_visa\\_consumo'\n",
       "\\item 'ctarjeta\\_master'\n",
       "\\item 'ctarjeta\\_master\\_transacciones'\n",
       "\\item 'mtarjeta\\_master\\_consumo'\n",
       "\\item 'cprestamos\\_personales'\n",
       "\\item 'mprestamos\\_personales'\n",
       "\\item 'cprestamos\\_prendarios'\n",
       "\\item 'mprestamos\\_prendarios'\n",
       "\\item 'cprestamos\\_hipotecarios'\n",
       "\\item 'mprestamos\\_hipotecarios'\n",
       "\\item 'cplazo\\_fijo'\n",
       "\\item 'mplazo\\_fijo\\_dolares'\n",
       "\\item 'mplazo\\_fijo\\_pesos'\n",
       "\\item 'cinversion1'\n",
       "\\item 'minversion1\\_pesos'\n",
       "\\item 'minversion1\\_dolares'\n",
       "\\item 'cinversion2'\n",
       "\\item 'minversion2'\n",
       "\\item 'cseguro\\_vida'\n",
       "\\item 'cseguro\\_auto'\n",
       "\\item 'cseguro\\_vivienda'\n",
       "\\item 'cseguro\\_accidentes\\_personales'\n",
       "\\item 'ccaja\\_seguridad'\n",
       "\\item 'cpayroll\\_trx'\n",
       "\\item 'mpayroll'\n",
       "\\item 'mpayroll2'\n",
       "\\item 'cpayroll2\\_trx'\n",
       "\\item 'ccuenta\\_debitos\\_automaticos'\n",
       "\\item 'mcuenta\\_debitos\\_automaticos'\n",
       "\\item 'ctarjeta\\_visa\\_debitos\\_automaticos'\n",
       "\\item 'mttarjeta\\_visa\\_debitos\\_automaticos'\n",
       "\\item 'ctarjeta\\_master\\_debitos\\_automaticos'\n",
       "\\item 'mttarjeta\\_master\\_debitos\\_automaticos'\n",
       "\\item 'cpagodeservicios'\n",
       "\\item 'mpagodeservicios'\n",
       "\\item 'cpagomiscuentas'\n",
       "\\item 'mpagomiscuentas'\n",
       "\\item 'ccajeros\\_propios\\_descuentos'\n",
       "\\item 'mcajeros\\_propios\\_descuentos'\n",
       "\\item 'ctarjeta\\_visa\\_descuentos'\n",
       "\\item 'mtarjeta\\_visa\\_descuentos'\n",
       "\\item 'ctarjeta\\_master\\_descuentos'\n",
       "\\item 'mtarjeta\\_master\\_descuentos'\n",
       "\\item 'ccomisiones\\_mantenimiento'\n",
       "\\item 'mcomisiones\\_mantenimiento'\n",
       "\\item 'ccomisiones\\_otras'\n",
       "\\item 'mcomisiones\\_otras'\n",
       "\\item 'cforex'\n",
       "\\item 'cforex\\_buy'\n",
       "\\item 'mforex\\_buy'\n",
       "\\item 'cforex\\_sell'\n",
       "\\item 'mforex\\_sell'\n",
       "\\item 'ctransferencias\\_recibidas'\n",
       "\\item 'mtransferencias\\_recibidas'\n",
       "\\item 'ctransferencias\\_emitidas'\n",
       "\\item 'mtransferencias\\_emitidas'\n",
       "\\item 'cextraccion\\_autoservicio'\n",
       "\\item 'mextraccion\\_autoservicio'\n",
       "\\item 'ccheques\\_depositados'\n",
       "\\item 'mcheques\\_depositados'\n",
       "\\item 'ccheques\\_emitidos'\n",
       "\\item 'mcheques\\_emitidos'\n",
       "\\item 'ccheques\\_depositados\\_rechazados'\n",
       "\\item 'mcheques\\_depositados\\_rechazados'\n",
       "\\item 'ccheques\\_emitidos\\_rechazados'\n",
       "\\item 'mcheques\\_emitidos\\_rechazados'\n",
       "\\item 'tcallcenter'\n",
       "\\item 'ccallcenter\\_transacciones'\n",
       "\\item 'thomebanking'\n",
       "\\item 'chomebanking\\_transacciones'\n",
       "\\item 'ccajas\\_transacciones'\n",
       "\\item 'ccajas\\_consultas'\n",
       "\\item 'ccajas\\_depositos'\n",
       "\\item 'ccajas\\_extracciones'\n",
       "\\item 'ccajas\\_otras'\n",
       "\\item 'catm\\_trx'\n",
       "\\item 'matm'\n",
       "\\item 'catm\\_trx\\_other'\n",
       "\\item 'matm\\_other'\n",
       "\\item 'ctrx\\_quarter'\n",
       "\\item 'tmobile\\_app'\n",
       "\\item 'cmobile\\_app\\_trx'\n",
       "\\item 'Master\\_delinquency'\n",
       "\\item 'Master\\_status'\n",
       "\\item 'Master\\_mfinanciacion\\_limite'\n",
       "\\item 'Master\\_Fvencimiento'\n",
       "\\item 'Master\\_Finiciomora'\n",
       "\\item 'Master\\_msaldototal'\n",
       "\\item 'Master\\_msaldopesos'\n",
       "\\item 'Master\\_msaldodolares'\n",
       "\\item 'Master\\_mconsumospesos'\n",
       "\\item 'Master\\_mconsumosdolares'\n",
       "\\item 'Master\\_mlimitecompra'\n",
       "\\item 'Master\\_madelantopesos'\n",
       "\\item 'Master\\_madelantodolares'\n",
       "\\item 'Master\\_fultimo\\_cierre'\n",
       "\\item 'Master\\_mpagado'\n",
       "\\item 'Master\\_mpagospesos'\n",
       "\\item 'Master\\_mpagosdolares'\n",
       "\\item 'Master\\_fechaalta'\n",
       "\\item 'Master\\_mconsumototal'\n",
       "\\item 'Master\\_cconsumos'\n",
       "\\item 'Master\\_cadelantosefectivo'\n",
       "\\item 'Master\\_mpagominimo'\n",
       "\\item 'Visa\\_delinquency'\n",
       "\\item 'Visa\\_status'\n",
       "\\item 'Visa\\_mfinanciacion\\_limite'\n",
       "\\item 'Visa\\_Fvencimiento'\n",
       "\\item 'Visa\\_Finiciomora'\n",
       "\\item 'Visa\\_msaldototal'\n",
       "\\item 'Visa\\_msaldopesos'\n",
       "\\item 'Visa\\_msaldodolares'\n",
       "\\item 'Visa\\_mconsumospesos'\n",
       "\\item 'Visa\\_mconsumosdolares'\n",
       "\\item 'Visa\\_mlimitecompra'\n",
       "\\item 'Visa\\_madelantopesos'\n",
       "\\item 'Visa\\_madelantodolares'\n",
       "\\item 'Visa\\_fultimo\\_cierre'\n",
       "\\item 'Visa\\_mpagado'\n",
       "\\item 'Visa\\_mpagospesos'\n",
       "\\item 'Visa\\_mpagosdolares'\n",
       "\\item 'Visa\\_fechaalta'\n",
       "\\item 'Visa\\_mconsumototal'\n",
       "\\item 'Visa\\_cconsumos'\n",
       "\\item 'Visa\\_cadelantosefectivo'\n",
       "\\item 'Visa\\_mpagominimo'\n",
       "\\item 'clase\\_ternaria'\n",
       "\\item 'kmes'\n",
       "\\item 'mpayroll\\_sobre\\_edad'\n",
       "\\end{enumerate*}\n"
      ],
      "text/markdown": [
       "1. 'numero_de_cliente'\n",
       "2. 'foto_mes'\n",
       "3. 'active_quarter'\n",
       "4. 'cliente_vip'\n",
       "5. 'internet'\n",
       "6. 'cliente_edad'\n",
       "7. 'cliente_antiguedad'\n",
       "8. 'mrentabilidad'\n",
       "9. 'mrentabilidad_annual'\n",
       "10. 'mcomisiones'\n",
       "11. 'mactivos_margen'\n",
       "12. 'mpasivos_margen'\n",
       "13. 'cproductos'\n",
       "14. 'tcuentas'\n",
       "15. 'ccuenta_corriente'\n",
       "16. 'mcuenta_corriente_adicional'\n",
       "17. 'mcuenta_corriente'\n",
       "18. 'ccaja_ahorro'\n",
       "19. 'mcaja_ahorro'\n",
       "20. 'mcaja_ahorro_adicional'\n",
       "21. 'mcaja_ahorro_dolares'\n",
       "22. 'cdescubierto_preacordado'\n",
       "23. 'mcuentas_saldo'\n",
       "24. 'ctarjeta_debito'\n",
       "25. 'ctarjeta_debito_transacciones'\n",
       "26. 'mautoservicio'\n",
       "27. 'ctarjeta_visa'\n",
       "28. 'ctarjeta_visa_transacciones'\n",
       "29. 'mtarjeta_visa_consumo'\n",
       "30. 'ctarjeta_master'\n",
       "31. 'ctarjeta_master_transacciones'\n",
       "32. 'mtarjeta_master_consumo'\n",
       "33. 'cprestamos_personales'\n",
       "34. 'mprestamos_personales'\n",
       "35. 'cprestamos_prendarios'\n",
       "36. 'mprestamos_prendarios'\n",
       "37. 'cprestamos_hipotecarios'\n",
       "38. 'mprestamos_hipotecarios'\n",
       "39. 'cplazo_fijo'\n",
       "40. 'mplazo_fijo_dolares'\n",
       "41. 'mplazo_fijo_pesos'\n",
       "42. 'cinversion1'\n",
       "43. 'minversion1_pesos'\n",
       "44. 'minversion1_dolares'\n",
       "45. 'cinversion2'\n",
       "46. 'minversion2'\n",
       "47. 'cseguro_vida'\n",
       "48. 'cseguro_auto'\n",
       "49. 'cseguro_vivienda'\n",
       "50. 'cseguro_accidentes_personales'\n",
       "51. 'ccaja_seguridad'\n",
       "52. 'cpayroll_trx'\n",
       "53. 'mpayroll'\n",
       "54. 'mpayroll2'\n",
       "55. 'cpayroll2_trx'\n",
       "56. 'ccuenta_debitos_automaticos'\n",
       "57. 'mcuenta_debitos_automaticos'\n",
       "58. 'ctarjeta_visa_debitos_automaticos'\n",
       "59. 'mttarjeta_visa_debitos_automaticos'\n",
       "60. 'ctarjeta_master_debitos_automaticos'\n",
       "61. 'mttarjeta_master_debitos_automaticos'\n",
       "62. 'cpagodeservicios'\n",
       "63. 'mpagodeservicios'\n",
       "64. 'cpagomiscuentas'\n",
       "65. 'mpagomiscuentas'\n",
       "66. 'ccajeros_propios_descuentos'\n",
       "67. 'mcajeros_propios_descuentos'\n",
       "68. 'ctarjeta_visa_descuentos'\n",
       "69. 'mtarjeta_visa_descuentos'\n",
       "70. 'ctarjeta_master_descuentos'\n",
       "71. 'mtarjeta_master_descuentos'\n",
       "72. 'ccomisiones_mantenimiento'\n",
       "73. 'mcomisiones_mantenimiento'\n",
       "74. 'ccomisiones_otras'\n",
       "75. 'mcomisiones_otras'\n",
       "76. 'cforex'\n",
       "77. 'cforex_buy'\n",
       "78. 'mforex_buy'\n",
       "79. 'cforex_sell'\n",
       "80. 'mforex_sell'\n",
       "81. 'ctransferencias_recibidas'\n",
       "82. 'mtransferencias_recibidas'\n",
       "83. 'ctransferencias_emitidas'\n",
       "84. 'mtransferencias_emitidas'\n",
       "85. 'cextraccion_autoservicio'\n",
       "86. 'mextraccion_autoservicio'\n",
       "87. 'ccheques_depositados'\n",
       "88. 'mcheques_depositados'\n",
       "89. 'ccheques_emitidos'\n",
       "90. 'mcheques_emitidos'\n",
       "91. 'ccheques_depositados_rechazados'\n",
       "92. 'mcheques_depositados_rechazados'\n",
       "93. 'ccheques_emitidos_rechazados'\n",
       "94. 'mcheques_emitidos_rechazados'\n",
       "95. 'tcallcenter'\n",
       "96. 'ccallcenter_transacciones'\n",
       "97. 'thomebanking'\n",
       "98. 'chomebanking_transacciones'\n",
       "99. 'ccajas_transacciones'\n",
       "100. 'ccajas_consultas'\n",
       "101. 'ccajas_depositos'\n",
       "102. 'ccajas_extracciones'\n",
       "103. 'ccajas_otras'\n",
       "104. 'catm_trx'\n",
       "105. 'matm'\n",
       "106. 'catm_trx_other'\n",
       "107. 'matm_other'\n",
       "108. 'ctrx_quarter'\n",
       "109. 'tmobile_app'\n",
       "110. 'cmobile_app_trx'\n",
       "111. 'Master_delinquency'\n",
       "112. 'Master_status'\n",
       "113. 'Master_mfinanciacion_limite'\n",
       "114. 'Master_Fvencimiento'\n",
       "115. 'Master_Finiciomora'\n",
       "116. 'Master_msaldototal'\n",
       "117. 'Master_msaldopesos'\n",
       "118. 'Master_msaldodolares'\n",
       "119. 'Master_mconsumospesos'\n",
       "120. 'Master_mconsumosdolares'\n",
       "121. 'Master_mlimitecompra'\n",
       "122. 'Master_madelantopesos'\n",
       "123. 'Master_madelantodolares'\n",
       "124. 'Master_fultimo_cierre'\n",
       "125. 'Master_mpagado'\n",
       "126. 'Master_mpagospesos'\n",
       "127. 'Master_mpagosdolares'\n",
       "128. 'Master_fechaalta'\n",
       "129. 'Master_mconsumototal'\n",
       "130. 'Master_cconsumos'\n",
       "131. 'Master_cadelantosefectivo'\n",
       "132. 'Master_mpagominimo'\n",
       "133. 'Visa_delinquency'\n",
       "134. 'Visa_status'\n",
       "135. 'Visa_mfinanciacion_limite'\n",
       "136. 'Visa_Fvencimiento'\n",
       "137. 'Visa_Finiciomora'\n",
       "138. 'Visa_msaldototal'\n",
       "139. 'Visa_msaldopesos'\n",
       "140. 'Visa_msaldodolares'\n",
       "141. 'Visa_mconsumospesos'\n",
       "142. 'Visa_mconsumosdolares'\n",
       "143. 'Visa_mlimitecompra'\n",
       "144. 'Visa_madelantopesos'\n",
       "145. 'Visa_madelantodolares'\n",
       "146. 'Visa_fultimo_cierre'\n",
       "147. 'Visa_mpagado'\n",
       "148. 'Visa_mpagospesos'\n",
       "149. 'Visa_mpagosdolares'\n",
       "150. 'Visa_fechaalta'\n",
       "151. 'Visa_mconsumototal'\n",
       "152. 'Visa_cconsumos'\n",
       "153. 'Visa_cadelantosefectivo'\n",
       "154. 'Visa_mpagominimo'\n",
       "155. 'clase_ternaria'\n",
       "156. 'kmes'\n",
       "157. 'mpayroll_sobre_edad'\n",
       "\n",
       "\n"
      ],
      "text/plain": [
       "  [1] \"numero_de_cliente\"                   \n",
       "  [2] \"foto_mes\"                            \n",
       "  [3] \"active_quarter\"                      \n",
       "  [4] \"cliente_vip\"                         \n",
       "  [5] \"internet\"                            \n",
       "  [6] \"cliente_edad\"                        \n",
       "  [7] \"cliente_antiguedad\"                  \n",
       "  [8] \"mrentabilidad\"                       \n",
       "  [9] \"mrentabilidad_annual\"                \n",
       " [10] \"mcomisiones\"                         \n",
       " [11] \"mactivos_margen\"                     \n",
       " [12] \"mpasivos_margen\"                     \n",
       " [13] \"cproductos\"                          \n",
       " [14] \"tcuentas\"                            \n",
       " [15] \"ccuenta_corriente\"                   \n",
       " [16] \"mcuenta_corriente_adicional\"         \n",
       " [17] \"mcuenta_corriente\"                   \n",
       " [18] \"ccaja_ahorro\"                        \n",
       " [19] \"mcaja_ahorro\"                        \n",
       " [20] \"mcaja_ahorro_adicional\"              \n",
       " [21] \"mcaja_ahorro_dolares\"                \n",
       " [22] \"cdescubierto_preacordado\"            \n",
       " [23] \"mcuentas_saldo\"                      \n",
       " [24] \"ctarjeta_debito\"                     \n",
       " [25] \"ctarjeta_debito_transacciones\"       \n",
       " [26] \"mautoservicio\"                       \n",
       " [27] \"ctarjeta_visa\"                       \n",
       " [28] \"ctarjeta_visa_transacciones\"         \n",
       " [29] \"mtarjeta_visa_consumo\"               \n",
       " [30] \"ctarjeta_master\"                     \n",
       " [31] \"ctarjeta_master_transacciones\"       \n",
       " [32] \"mtarjeta_master_consumo\"             \n",
       " [33] \"cprestamos_personales\"               \n",
       " [34] \"mprestamos_personales\"               \n",
       " [35] \"cprestamos_prendarios\"               \n",
       " [36] \"mprestamos_prendarios\"               \n",
       " [37] \"cprestamos_hipotecarios\"             \n",
       " [38] \"mprestamos_hipotecarios\"             \n",
       " [39] \"cplazo_fijo\"                         \n",
       " [40] \"mplazo_fijo_dolares\"                 \n",
       " [41] \"mplazo_fijo_pesos\"                   \n",
       " [42] \"cinversion1\"                         \n",
       " [43] \"minversion1_pesos\"                   \n",
       " [44] \"minversion1_dolares\"                 \n",
       " [45] \"cinversion2\"                         \n",
       " [46] \"minversion2\"                         \n",
       " [47] \"cseguro_vida\"                        \n",
       " [48] \"cseguro_auto\"                        \n",
       " [49] \"cseguro_vivienda\"                    \n",
       " [50] \"cseguro_accidentes_personales\"       \n",
       " [51] \"ccaja_seguridad\"                     \n",
       " [52] \"cpayroll_trx\"                        \n",
       " [53] \"mpayroll\"                            \n",
       " [54] \"mpayroll2\"                           \n",
       " [55] \"cpayroll2_trx\"                       \n",
       " [56] \"ccuenta_debitos_automaticos\"         \n",
       " [57] \"mcuenta_debitos_automaticos\"         \n",
       " [58] \"ctarjeta_visa_debitos_automaticos\"   \n",
       " [59] \"mttarjeta_visa_debitos_automaticos\"  \n",
       " [60] \"ctarjeta_master_debitos_automaticos\" \n",
       " [61] \"mttarjeta_master_debitos_automaticos\"\n",
       " [62] \"cpagodeservicios\"                    \n",
       " [63] \"mpagodeservicios\"                    \n",
       " [64] \"cpagomiscuentas\"                     \n",
       " [65] \"mpagomiscuentas\"                     \n",
       " [66] \"ccajeros_propios_descuentos\"         \n",
       " [67] \"mcajeros_propios_descuentos\"         \n",
       " [68] \"ctarjeta_visa_descuentos\"            \n",
       " [69] \"mtarjeta_visa_descuentos\"            \n",
       " [70] \"ctarjeta_master_descuentos\"          \n",
       " [71] \"mtarjeta_master_descuentos\"          \n",
       " [72] \"ccomisiones_mantenimiento\"           \n",
       " [73] \"mcomisiones_mantenimiento\"           \n",
       " [74] \"ccomisiones_otras\"                   \n",
       " [75] \"mcomisiones_otras\"                   \n",
       " [76] \"cforex\"                              \n",
       " [77] \"cforex_buy\"                          \n",
       " [78] \"mforex_buy\"                          \n",
       " [79] \"cforex_sell\"                         \n",
       " [80] \"mforex_sell\"                         \n",
       " [81] \"ctransferencias_recibidas\"           \n",
       " [82] \"mtransferencias_recibidas\"           \n",
       " [83] \"ctransferencias_emitidas\"            \n",
       " [84] \"mtransferencias_emitidas\"            \n",
       " [85] \"cextraccion_autoservicio\"            \n",
       " [86] \"mextraccion_autoservicio\"            \n",
       " [87] \"ccheques_depositados\"                \n",
       " [88] \"mcheques_depositados\"                \n",
       " [89] \"ccheques_emitidos\"                   \n",
       " [90] \"mcheques_emitidos\"                   \n",
       " [91] \"ccheques_depositados_rechazados\"     \n",
       " [92] \"mcheques_depositados_rechazados\"     \n",
       " [93] \"ccheques_emitidos_rechazados\"        \n",
       " [94] \"mcheques_emitidos_rechazados\"        \n",
       " [95] \"tcallcenter\"                         \n",
       " [96] \"ccallcenter_transacciones\"           \n",
       " [97] \"thomebanking\"                        \n",
       " [98] \"chomebanking_transacciones\"          \n",
       " [99] \"ccajas_transacciones\"                \n",
       "[100] \"ccajas_consultas\"                    \n",
       "[101] \"ccajas_depositos\"                    \n",
       "[102] \"ccajas_extracciones\"                 \n",
       "[103] \"ccajas_otras\"                        \n",
       "[104] \"catm_trx\"                            \n",
       "[105] \"matm\"                                \n",
       "[106] \"catm_trx_other\"                      \n",
       "[107] \"matm_other\"                          \n",
       "[108] \"ctrx_quarter\"                        \n",
       "[109] \"tmobile_app\"                         \n",
       "[110] \"cmobile_app_trx\"                     \n",
       "[111] \"Master_delinquency\"                  \n",
       "[112] \"Master_status\"                       \n",
       "[113] \"Master_mfinanciacion_limite\"         \n",
       "[114] \"Master_Fvencimiento\"                 \n",
       "[115] \"Master_Finiciomora\"                  \n",
       "[116] \"Master_msaldototal\"                  \n",
       "[117] \"Master_msaldopesos\"                  \n",
       "[118] \"Master_msaldodolares\"                \n",
       "[119] \"Master_mconsumospesos\"               \n",
       "[120] \"Master_mconsumosdolares\"             \n",
       "[121] \"Master_mlimitecompra\"                \n",
       "[122] \"Master_madelantopesos\"               \n",
       "[123] \"Master_madelantodolares\"             \n",
       "[124] \"Master_fultimo_cierre\"               \n",
       "[125] \"Master_mpagado\"                      \n",
       "[126] \"Master_mpagospesos\"                  \n",
       "[127] \"Master_mpagosdolares\"                \n",
       "[128] \"Master_fechaalta\"                    \n",
       "[129] \"Master_mconsumototal\"                \n",
       "[130] \"Master_cconsumos\"                    \n",
       "[131] \"Master_cadelantosefectivo\"           \n",
       "[132] \"Master_mpagominimo\"                  \n",
       "[133] \"Visa_delinquency\"                    \n",
       "[134] \"Visa_status\"                         \n",
       "[135] \"Visa_mfinanciacion_limite\"           \n",
       "[136] \"Visa_Fvencimiento\"                   \n",
       "[137] \"Visa_Finiciomora\"                    \n",
       "[138] \"Visa_msaldototal\"                    \n",
       "[139] \"Visa_msaldopesos\"                    \n",
       "[140] \"Visa_msaldodolares\"                  \n",
       "[141] \"Visa_mconsumospesos\"                 \n",
       "[142] \"Visa_mconsumosdolares\"               \n",
       "[143] \"Visa_mlimitecompra\"                  \n",
       "[144] \"Visa_madelantopesos\"                 \n",
       "[145] \"Visa_madelantodolares\"               \n",
       "[146] \"Visa_fultimo_cierre\"                 \n",
       "[147] \"Visa_mpagado\"                        \n",
       "[148] \"Visa_mpagospesos\"                    \n",
       "[149] \"Visa_mpagosdolares\"                  \n",
       "[150] \"Visa_fechaalta\"                      \n",
       "[151] \"Visa_mconsumototal\"                  \n",
       "[152] \"Visa_cconsumos\"                      \n",
       "[153] \"Visa_cadelantosefectivo\"             \n",
       "[154] \"Visa_mpagominimo\"                    \n",
       "[155] \"clase_ternaria\"                      \n",
       "[156] \"kmes\"                                \n",
       "[157] \"mpayroll_sobre_edad\"                 "
      ]
     },
     "metadata": {},
     "output_type": "display_data"
    }
   ],
   "source": [
    "# visualizo las columas del dataset a esta etapa\n",
    "colnames(dataset)"
   ]
  },
  {
   "cell_type": "markdown",
   "id": "9682b4ca-3ab3-4bbc-a36a-b185361e6b6b",
   "metadata": {
    "id": "9682b4ca-3ab3-4bbc-a36a-b185361e6b6b"
   },
   "source": [
    "#### 7.3.1.4  FE_rf Feature Engineering de nuevas variables a partir de hojas de Random Forest\n",
    "\n",
    "Esto se mostrará unicamente a la *modalidad Analista Sr*"
   ]
  },
  {
   "cell_type": "code",
   "execution_count": 11,
   "id": "ljA3h0jOcciP",
   "metadata": {
    "id": "ljA3h0jOcciP"
   },
   "outputs": [],
   "source": [
    "if( !require(\"lightgbm\")) install.packages(\"lightgbm\")\n",
    "require(\"lightgbm\")\n",
    "\n",
    "AgregaVarRandomForest <- function() {\n",
    "\n",
    "  cat( \"inicio AgregaVarRandomForest()\\n\")\n",
    "  gc(verbose= FALSE)\n",
    "  dataset[, clase01 := 0L ]\n",
    "  dataset[ clase_ternaria %in% PARAM$FE_rf$train$clase01_valor1,\n",
    "      clase01 := 1L ]\n",
    "\n",
    "  campos_buenos <- setdiff(\n",
    "    colnames(dataset),\n",
    "    c( \"clase_ternaria\", \"clase01\")\n",
    "  )\n",
    "\n",
    "  dataset[, entrenamiento :=\n",
    "    as.integer( foto_mes %in% PARAM$FE_rf$train$training )]\n",
    "\n",
    "  dtrain <- lgb.Dataset(\n",
    "    data = data.matrix(dataset[entrenamiento == TRUE, campos_buenos, with = FALSE]),\n",
    "    label = dataset[entrenamiento == TRUE, clase01],\n",
    "    free_raw_data = FALSE\n",
    "  )\n",
    "\n",
    "  modelo <- lgb.train(\n",
    "     data = dtrain,\n",
    "     param = PARAM$FE_rf$lgb_param,\n",
    "     verbose = -100\n",
    "  )\n",
    "\n",
    "  cat( \"Fin construccion RandomForest\\n\" )\n",
    "  # grabo el modelo, achivo .model\n",
    "  lgb.save(modelo, file=\"modelo.model\" )\n",
    "\n",
    "  qarbolitos <- copy(PARAM$FE_rf$lgb_param$num_iterations)\n",
    "\n",
    "  periodos <- dataset[ , unique( foto_mes ) ]\n",
    "\n",
    "  for( periodo in  periodos )\n",
    "  {\n",
    "    cat( \"periodo = \", periodo, \"\\n\" )\n",
    "    datamatrix <- data.matrix(dataset[ foto_mes== periodo, campos_buenos, with = FALSE])\n",
    "\n",
    "    cat( \"Inicio prediccion\\n\" )\n",
    "    prediccion <- predict(\n",
    "        modelo,\n",
    "        datamatrix,\n",
    "        type = \"leaf\"\n",
    "    )\n",
    "    cat( \"Fin prediccion\\n\" )\n",
    "\n",
    "    for( arbolito in 1:qarbolitos )\n",
    "    {\n",
    "       cat( arbolito, \" \" )\n",
    "       hojas_arbol <- unique(prediccion[ , arbolito])\n",
    "\n",
    "       for (pos in 1:length(hojas_arbol)) {\n",
    "         # el numero de nodo de la hoja, estan salteados\n",
    "         nodo_id <- hojas_arbol[pos]\n",
    "         dataset[ foto_mes== periodo, paste0(\n",
    "            \"rf_\", sprintf(\"%03d\", arbolito),\n",
    "             \"_\", sprintf(\"%03d\", nodo_id)\n",
    "          ) :=  as.integer( nodo_id == prediccion[ , arbolito]) ]\n",
    "\n",
    "       }\n",
    "\n",
    "       rm( hojas_arbol )\n",
    "    }\n",
    "    cat( \"\\n\" )\n",
    "\n",
    "    rm( prediccion )\n",
    "    rm( datamatrix )\n",
    "    gc(verbose= FALSE)\n",
    "  }\n",
    "\n",
    "  gc(verbose= FALSE)\n",
    "\n",
    "  # borro clase01 , no debe ensuciar el dataset\n",
    "  dataset[ , clase01 := NULL ]\n",
    "\n",
    "}"
   ]
  },
  {
   "cell_type": "code",
   "execution_count": null,
   "id": "c811cac4-71c1-4c90-ba4c-2d8473b5621e",
   "metadata": {},
   "outputs": [],
   "source": [
    "# Parametros de Feature Engineering  a partir de hojas de Random Forest\n",
    "\n",
    "# Estos CUATRO parametros son los que se deben modificar\n",
    "PARAM$FE_rf$arbolitos= 20\n",
    "PARAM$FE_rf$hojas_por_arbol= 16\n",
    "PARAM$FE_rf$datos_por_hoja= 100\n",
    "PARAM$FE_rf$mtry_ratio= 0.2\n",
    "\n",
    "# Estos son quasi fijos\n",
    "PARAM$FE_rf$train$clase01_valor1 <- c( \"BAJA+2\", \"BAJA+1\")\n",
    "PARAM$FE_rf$train$training <- c( 202101, 202102, 202103)\n",
    "\n",
    "# Estos TAMBIEN son quasi fijos\n",
    "PARAM$FE_rf$lgb_param <-list(\n",
    "    # parametros que se pueden cambiar\n",
    "    num_iterations = PARAM$FE_rf$arbolitos,\n",
    "    num_leaves  = PARAM$FE_rf$hojas_por_arbol,\n",
    "    min_data_in_leaf = PARAM$FE_rf$datos_por_hoja,\n",
    "    feature_fraction_bynode  = PARAM$FE_rf$mtry_ratio,\n",
    "\n",
    "    # para que LightGBM emule Random Forest\n",
    "    boosting = \"rf\",\n",
    "    bagging_fraction = ( 1.0 - 1.0/exp(1.0) ),\n",
    "    bagging_freq = 1.0,\n",
    "    feature_fraction = 1.0,\n",
    "\n",
    "    # genericos de LightGBM\n",
    "    max_bin = 31L,\n",
    "    objective = \"binary\",\n",
    "    first_metric_only = TRUE,\n",
    "    boost_from_average = TRUE,\n",
    "    feature_pre_filter = FALSE,\n",
    "    force_row_wise = TRUE,\n",
    "    verbosity = -100,\n",
    "    max_depth = -1L,\n",
    "    min_gain_to_split = 0.0,\n",
    "    min_sum_hessian_in_leaf = 0.001,\n",
    "    lambda_l1 = 0.0,\n",
    "    lambda_l2 = 0.0,\n",
    "\n",
    "    pos_bagging_fraction = 1.0,\n",
    "    neg_bagging_fraction = 1.0,\n",
    "    is_unbalance = FALSE,\n",
    "    scale_pos_weight = 1.0,\n",
    "\n",
    "    drop_rate = 0.1,\n",
    "    max_drop = 50,\n",
    "    skip_drop = 0.5,\n",
    "\n",
    "    extra_trees = FALSE\n",
    "  )"
   ]
  },
  {
   "cell_type": "code",
   "execution_count": null,
   "id": "0de552b6-bda6-4412-a62a-42ad949bcc49",
   "metadata": {},
   "outputs": [],
   "source": [
    "# Feature Engineering agregando variables de Random Forest\n",
    "AgregaVarRandomForest()"
   ]
  },
  {
   "cell_type": "code",
   "execution_count": null,
   "id": "20ee419d-b92a-4a76-835f-835a777b7a8b",
   "metadata": {},
   "outputs": [],
   "source": [
    "ncol(dataset)\n",
    "colnames(dataset)"
   ]
  },
  {
   "cell_type": "markdown",
   "id": "XaRBjQj8ZRUZ",
   "metadata": {
    "id": "XaRBjQj8ZRUZ"
   },
   "source": [
    "#### 7.3.1.5  FEhist Feature Engineering historico\n",
    "\n",
    "El Fature Engineering Histórico es la etapa que más aporta a la ganancia final, ya que enriquece cada registro del dataset con su historia."
   ]
  },
  {
   "cell_type": "markdown",
   "id": "cfe3b8cf-0707-4512-92e7-c1407bb3f73b",
   "metadata": {
    "id": "cfe3b8cf-0707-4512-92e7-c1407bb3f73b"
   },
   "source": [
    "Para cada campo del dataset original (*)\n",
    "se crean lo siguientes campos de a partir de la historia\n",
    "* lag1  lags de orden 1\n",
    "* delta1  =  valor actual - lag1\n",
    "* lag2  lags de orden 2\n",
    "* delta2  = valor actual - lag2\n",
    "\n",
    "\n",
    "(*) Excepto para los campos  <numero_de_cliente,  foto_mes,  clase_ternaria>"
   ]
  },
  {
   "cell_type": "code",
   "execution_count": null,
   "id": "7850b948-827d-4a2a-b4d3-a5e459b47c11",
   "metadata": {
    "id": "7850b948-827d-4a2a-b4d3-a5e459b47c11"
   },
   "outputs": [],
   "source": [
    "# Feature Engineering Historico\n",
    "\n",
    "# todo es lagueable, menos la primary key y la clase\n",
    "cols_lagueables <- copy( setdiff(\n",
    "    colnames(dataset),\n",
    "    c(\"numero_de_cliente\", \"foto_mes\", \"clase_ternaria\")\n",
    ") )\n",
    "\n",
    "# https://rdrr.io/cran/data.table/man/shift.html\n",
    "\n",
    "# lags de orden 1\n",
    "dataset[,\n",
    "    paste0(cols_lagueables, \"_lag1\") := shift(.SD, 1, NA, \"lag\"),\n",
    "    by = numero_de_cliente,\n",
    "    .SDcols = cols_lagueables\n",
    "]\n",
    "\n",
    "# lags de orden 2\n",
    "dataset[,\n",
    "    paste0(cols_lagueables, \"_lag2\") := shift(.SD, 2, NA, \"lag\"),\n",
    "    by = numero_de_cliente,\n",
    "    .SDcols = cols_lagueables\n",
    "]\n",
    "\n",
    "# agrego los delta lags\n",
    "for (vcol in cols_lagueables)\n",
    "{\n",
    "    dataset[, paste0(vcol, \"_delta1\") := get(vcol) - get(paste0(vcol, \"_lag1\"))]\n",
    "    dataset[, paste0(vcol, \"_delta2\") := get(vcol) - get(paste0(vcol, \"_lag2\"))]\n",
    "}\n"
   ]
  },
  {
   "cell_type": "markdown",
   "id": "cea690d9-ece9-4852-a5e2-f337c31b6721",
   "metadata": {
    "id": "cea690d9-ece9-4852-a5e2-f337c31b6721"
   },
   "source": [
    "Verificacion de los campos recien creados"
   ]
  },
  {
   "cell_type": "code",
   "execution_count": null,
   "id": "f772896b-595a-47d4-8905-c15304ac9452",
   "metadata": {
    "id": "f772896b-595a-47d4-8905-c15304ac9452"
   },
   "outputs": [],
   "source": [
    "ncol(dataset)\n",
    "colnames(dataset)"
   ]
  },
  {
   "cell_type": "markdown",
   "id": "l8mKij0XaDY0",
   "metadata": {
    "id": "l8mKij0XaDY0"
   },
   "source": [
    "#### 7.3.1.6  FEhist Reduccion dimensionalidad con canaritos\n",
    "\n",
    "Esta etapa solo se mostrará a la *modalidad Anlista Sr* por algun canal secreto de forma de no confundir a los *Analista Jr*  nni distraer con detalles operativos a la estratégica *Modalidad Gerencial*"
   ]
  },
  {
   "cell_type": "code",
   "execution_count": 14,
   "id": "QrmnPtlBcEgx",
   "metadata": {
    "id": "QrmnPtlBcEgx"
   },
   "outputs": [],
   "source": [
    "# No se implementa la reduccion de la dimensionalidad con canaritos"
   ]
  },
  {
   "cell_type": "markdown",
   "id": "cf91ea5e-3341-4afb-8d05-cc4923d3d1e1",
   "metadata": {
    "id": "cf91ea5e-3341-4afb-8d05-cc4923d3d1e1"
   },
   "source": [
    "### 7.3.2 Modelado"
   ]
  },
  {
   "cell_type": "markdown",
   "id": "526048e4-8cf2-4023-bd2d-a70e4e9ff157",
   "metadata": {
    "id": "526048e4-8cf2-4023-bd2d-a70e4e9ff157"
   },
   "source": [
    "#### 7.3.2.1 Training Strategy\n",
    "\n",
    "Esta etapa de Workflow de  Training Strategy esta pensada para la *Modalidad Gerencial* que posee el dataset de [202005, 202109]\n",
    "<br> Si usted es un Analista, posee el periodo de [201901, 202109] y deberá experimentar en que meses le conviene experimentar\n",
    "\n",
    "<br> A la *Modalidad Gerencial* no se le complicada la vida con el undersampling de los continua, por eso PARAM$trainingstrategy$training_pct <- 1.0\n",
    "<br> Sin embargo, si usted es  *Analista SR* posee un dataset 50 veces ( filas x columnas) más grande que la *Modalidad Gerencial*  y por un tema de velocidad y experimentación más rápida puede llegar a necesitar activar el undersampling de la clase mayoritaria, a pesar de estar corriendo en Google Cloud."
   ]
  },
  {
   "cell_type": "markdown",
   "id": "f16bc1c1-b3ea-43ca-9d3c-53f8f9ab8ec1",
   "metadata": {
    "id": "f16bc1c1-b3ea-43ca-9d3c-53f8f9ab8ec1"
   },
   "source": [
    "Se hace una estrategia de entrenamiento muy sencilla, tomando todos los meses posibles, SIN eliminar nada x pandemia ni por ningun otro motivo\n",
    "\n",
    "* future = 202109  obviamente completo\n",
    "\n",
    "* final_train =  [ 202005, 202107 ]  con un undersampling de los CONTINUA del 2% por un tema de velocidad\n",
    "\n",
    "* training\n",
    "   * testing = NO HAY\n",
    "   * validation =  202107   completo, sin undersampling\n",
    "   * training = [ 202005, 202106 ]  donde se consideran el 100% de los CONTINUA"
   ]
  },
  {
   "cell_type": "code",
   "execution_count": 15,
   "id": "e4476a14-ca58-4f24-98e1-9a64dba3c333",
   "metadata": {
    "id": "2c9c0a42-ba58-4264-8566-091a6161716f"
   },
   "outputs": [],
   "source": [
    "meses <- unique(dataset$foto_mes)\n",
    "\n",
    "meses_training <- meses[1:26]\n",
    "\n",
    "meses_final_train <- meses[1:28]"
   ]
  },
  {
   "cell_type": "code",
   "execution_count": 16,
   "id": "ec47572f-2135-4246-b716-2a80e1a8c39a",
   "metadata": {},
   "outputs": [
    {
     "data": {
      "text/html": [
       "<style>\n",
       ".list-inline {list-style: none; margin:0; padding: 0}\n",
       ".list-inline>li {display: inline-block}\n",
       ".list-inline>li:not(:last-child)::after {content: \"\\00b7\"; padding: 0 .5ex}\n",
       "</style>\n",
       "<ol class=list-inline><li>201901</li><li>201902</li><li>201903</li><li>201904</li><li>201905</li><li>201906</li><li>201907</li><li>201908</li><li>201909</li><li>201910</li><li>201911</li><li>201912</li><li>202001</li><li>202002</li><li>202003</li><li>202004</li><li>202005</li><li>202006</li><li>202007</li><li>202008</li><li>202009</li><li>202010</li><li>202011</li><li>202012</li><li>202101</li><li>202102</li></ol>\n"
      ],
      "text/latex": [
       "\\begin{enumerate*}\n",
       "\\item 201901\n",
       "\\item 201902\n",
       "\\item 201903\n",
       "\\item 201904\n",
       "\\item 201905\n",
       "\\item 201906\n",
       "\\item 201907\n",
       "\\item 201908\n",
       "\\item 201909\n",
       "\\item 201910\n",
       "\\item 201911\n",
       "\\item 201912\n",
       "\\item 202001\n",
       "\\item 202002\n",
       "\\item 202003\n",
       "\\item 202004\n",
       "\\item 202005\n",
       "\\item 202006\n",
       "\\item 202007\n",
       "\\item 202008\n",
       "\\item 202009\n",
       "\\item 202010\n",
       "\\item 202011\n",
       "\\item 202012\n",
       "\\item 202101\n",
       "\\item 202102\n",
       "\\end{enumerate*}\n"
      ],
      "text/markdown": [
       "1. 201901\n",
       "2. 201902\n",
       "3. 201903\n",
       "4. 201904\n",
       "5. 201905\n",
       "6. 201906\n",
       "7. 201907\n",
       "8. 201908\n",
       "9. 201909\n",
       "10. 201910\n",
       "11. 201911\n",
       "12. 201912\n",
       "13. 202001\n",
       "14. 202002\n",
       "15. 202003\n",
       "16. 202004\n",
       "17. 202005\n",
       "18. 202006\n",
       "19. 202007\n",
       "20. 202008\n",
       "21. 202009\n",
       "22. 202010\n",
       "23. 202011\n",
       "24. 202012\n",
       "25. 202101\n",
       "26. 202102\n",
       "\n",
       "\n"
      ],
      "text/plain": [
       " [1] 201901 201902 201903 201904 201905 201906 201907 201908 201909 201910\n",
       "[11] 201911 201912 202001 202002 202003 202004 202005 202006 202007 202008\n",
       "[21] 202009 202010 202011 202012 202101 202102"
      ]
     },
     "metadata": {},
     "output_type": "display_data"
    }
   ],
   "source": [
    "meses_training"
   ]
  },
  {
   "cell_type": "code",
   "execution_count": 17,
   "id": "2c9c0a42-ba58-4264-8566-091a6161716f",
   "metadata": {
    "id": "2c9c0a42-ba58-4264-8566-091a6161716f"
   },
   "outputs": [],
   "source": [
    "PARAM$trainingstrategy$validate <- c(202104, 202105)\n",
    "\n",
    "PARAM$trainingstrategy$training <- meses_training\n",
    "\n",
    "PARAM$trainingstrategy$training_pct <- .1\n",
    "\n",
    "\n",
    "PARAM$trainingstrategy$positivos <- c( \"BAJA+1\", \"BAJA+2\")"
   ]
  },
  {
   "cell_type": "code",
   "execution_count": 18,
   "id": "tv_trHWAj4a8",
   "metadata": {
    "id": "tv_trHWAj4a8"
   },
   "outputs": [],
   "source": [
    "# seteo la clase01   1={BAJA+1, BAJA+2}   0={CONTINUA}\n",
    "dataset[, clase01 := ifelse( clase_ternaria %in% PARAM$trainingstrategy$positivos, 1, 0 )]"
   ]
  },
  {
   "cell_type": "code",
   "execution_count": 19,
   "id": "Ud_XDKSIj8f_",
   "metadata": {
    "id": "Ud_XDKSIj8f_"
   },
   "outputs": [],
   "source": [
    "# los campos en los que se entrena\n",
    "campos_buenos <- copy( setdiff(\n",
    "    colnames(dataset), c(\"clase_ternaria\",\"clase01\",\"azar\"))\n",
    ")"
   ]
  },
  {
   "cell_type": "code",
   "execution_count": 20,
   "id": "rFKgZZPSj_Pa",
   "metadata": {
    "id": "rFKgZZPSj_Pa"
   },
   "outputs": [
    {
     "name": "stderr",
     "output_type": "stream",
     "text": [
      "Loading required package: lightgbm\n",
      "\n"
     ]
    }
   ],
   "source": [
    "# preparo para que se puede hacer undersampling de los CONTINUA\n",
    "#  solamente por un tema de VELOCIDAD\n",
    "set.seed(PARAM$semilla_primigenia, kind = \"L'Ecuyer-CMRG\")\n",
    "dataset[, azar:=runif(nrow(dataset))]\n",
    "\n",
    "# undersampling de los CONTINUA\n",
    "dataset[, fold_train :=  foto_mes %in%  PARAM$trainingstrategy$training &\n",
    "    (clase_ternaria %in% c(\"BAJA+1\", \"BAJA+2\") |\n",
    "     azar < PARAM$trainingstrategy$training_pct ) ]\n",
    "\n",
    "\n",
    "if( !require(\"lightgbm\")) install.packages(\"lightgbm\")\n",
    "require(\"lightgbm\")\n",
    "\n",
    "dtrain <- lgb.Dataset(\n",
    "  data= data.matrix(dataset[fold_train == TRUE, campos_buenos, with = FALSE]),\n",
    "  label= dataset[fold_train == TRUE, clase01],\n",
    "  free_raw_data= TRUE\n",
    ")"
   ]
  },
  {
   "cell_type": "code",
   "execution_count": 21,
   "id": "B3yo98kQkHcP",
   "metadata": {
    "id": "B3yo98kQkHcP"
   },
   "outputs": [
    {
     "data": {
      "text/html": [
       "327335"
      ],
      "text/latex": [
       "327335"
      ],
      "text/markdown": [
       "327335"
      ],
      "text/plain": [
       "[1] 327335"
      ]
     },
     "metadata": {},
     "output_type": "display_data"
    }
   ],
   "source": [
    "# datos de validation\n",
    "dvalidate <- lgb.Dataset(\n",
    "  data= data.matrix(dataset[foto_mes %in% PARAM$trainingstrategy$validate, campos_buenos, with = FALSE]),\n",
    "  label= dataset[foto_mes %in% PARAM$trainingstrategy$validate, clase01],\n",
    "  free_raw_data= TRUE\n",
    ")\n",
    "\n",
    "nrow(dvalidate)"
   ]
  },
  {
   "cell_type": "markdown",
   "id": "28e8f788-551c-4e50-9029-302ac0834287",
   "metadata": {
    "id": "28e8f788-551c-4e50-9029-302ac0834287"
   },
   "source": [
    "####  7.3.2.2. Hyperparameter Tuning"
   ]
  },
  {
   "cell_type": "markdown",
   "id": "bf5fc836-e222-4aeb-a6a8-157346895ef7",
   "metadata": {
    "id": "bf5fc836-e222-4aeb-a6a8-157346895ef7"
   },
   "source": [
    "* Clase binaria que se optimiza :  positivos = [ BAJA+1, BAJA+2 ]"
   ]
  },
  {
   "cell_type": "markdown",
   "id": "885c03b5-77bc-4510-a930-0d1f14b52ffb",
   "metadata": {
    "id": "885c03b5-77bc-4510-a930-0d1f14b52ffb"
   },
   "source": [
    "* Metrica que se optimiza **AUC** Area Under Curve de la  ROC Curve\n",
    "\n",
    "es muy importante notar que intencionalmente  **NO** se está optimizando la funcion de ganancia del problema"
   ]
  },
  {
   "cell_type": "markdown",
   "id": "b7e6f95c-66ef-4ab9-9ba3-fcc099816704",
   "metadata": {
    "id": "b7e6f95c-66ef-4ab9-9ba3-fcc099816704"
   },
   "source": [
    "* Cantidad de iteraciones inteligentes de la Optimizacion Bayesiana = **10**"
   ]
  },
  {
   "cell_type": "markdown",
   "id": "fe047a87-e2d0-4418-97dd-0a881e66d73a",
   "metadata": {
    "id": "fe047a87-e2d0-4418-97dd-0a881e66d73a"
   },
   "source": [
    "* Parametros no default, fijos de LightGBM que no se optimizan\n",
    "  * max_bin = 31 , Alienigenas Ancestrales contruyeron las pirámides y dejaron a la humanidad en un jeroglifico  *max_bin=31*\n",
    "  * feature_fraction = 0.5  para poner algo que generalmente no falla\n",
    "  * learning_rate = 0.03  para que aprenda lento\n"
   ]
  },
  {
   "cell_type": "markdown",
   "id": "1e7da08e-fe57-4681-beff-11fe963116bd",
   "metadata": {
    "id": "1e7da08e-fe57-4681-beff-11fe963116bd"
   },
   "source": [
    "* Parametros que se optimizan en la Bayesian Optimization\n",
    "  * num_leaves  [8, 256]\n",
    "  * min_data_in_leaf  [8, 8192]"
   ]
  },
  {
   "cell_type": "code",
   "execution_count": 22,
   "id": "34V6y4GetKq_",
   "metadata": {
    "id": "34V6y4GetKq_"
   },
   "outputs": [
    {
     "name": "stderr",
     "output_type": "stream",
     "text": [
      "Loading required package: DiceKriging\n",
      "\n",
      "Loading required package: mlrMBO\n",
      "\n",
      "Loading required package: mlr\n",
      "\n",
      "Loading required package: ParamHelpers\n",
      "\n",
      "\n",
      "Attaching package: ‘ParamHelpers’\n",
      "\n",
      "\n",
      "The following object is masked from ‘package:R.utils’:\n",
      "\n",
      "    isVector\n",
      "\n",
      "\n",
      "\n",
      "Attaching package: ‘mlr’\n",
      "\n",
      "\n",
      "The following objects are masked from ‘package:R.utils’:\n",
      "\n",
      "    resample, setThreshold\n",
      "\n",
      "\n",
      "Loading required package: smoof\n",
      "\n",
      "Loading required package: checkmate\n",
      "\n",
      "\n",
      "Attaching package: ‘checkmate’\n",
      "\n",
      "\n",
      "The following object is masked from ‘package:DiceKriging’:\n",
      "\n",
      "    checkNames\n",
      "\n",
      "\n",
      "The following object is masked from ‘package:R.utils’:\n",
      "\n",
      "    asInt\n",
      "\n",
      "\n",
      "\n",
      "Attaching package: ‘smoof’\n",
      "\n",
      "\n",
      "The following objects are masked from ‘package:R.oo’:\n",
      "\n",
      "    getDescription, getName\n",
      "\n",
      "\n"
     ]
    }
   ],
   "source": [
    "# paquetes necesarios para la Bayesian Optimization\n",
    "if(!require(\"DiceKriging\")) install.packages(\"DiceKriging\")\n",
    "require(\"DiceKriging\")\n",
    "\n",
    "if(!require(\"mlrMBO\")) install.packages(\"mlrMBO\")\n",
    "require(\"mlrMBO\")"
   ]
  },
  {
   "cell_type": "markdown",
   "id": "UFbDSYtH0TTT",
   "metadata": {
    "id": "UFbDSYtH0TTT"
   },
   "source": [
    "Definición de la Bayesian Optimization\n",
    "<br> Si se desea optimizar un hiperparámetro que esta como fijo, debe QUITARSE de param_fijos y agregarse a PARAM$hipeparametertuning$hs"
   ]
  },
  {
   "cell_type": "code",
   "execution_count": 23,
   "id": "5Uag3XGHqrfZ",
   "metadata": {
    "id": "5Uag3XGHqrfZ"
   },
   "outputs": [],
   "source": [
    "# valor ridiculamente bajo para que corra rapido en el aula y no molestar a la *Modalidad Gerencial*\n",
    "PARAM$hipeparametertuning$num_interations <- 50\n",
    "\n",
    "# parametros fijos del LightGBM\n",
    "PARAM$lgbm$param_fijos <- list(\n",
    "  objective= \"binary\",\n",
    "  metric= \"auc\",\n",
    "  first_metric_only= TRUE,\n",
    "  boost_from_average= TRUE,\n",
    "  feature_pre_filter= FALSE,\n",
    "  verbosity= -100,\n",
    "  force_row_wise= TRUE, # para evitar warning\n",
    "  seed= PARAM$semilla_primigenia,\n",
    "  max_bin= 31,\n",
    "  learning_rate= 0.03,\n",
    "  feature_fraction= 0.5,\n",
    "  num_iterations= 2048,  # valor grande, lo limita early_stopping_rounds\n",
    "  early_stopping_rounds= 200\n",
    ")\n",
    "\n",
    "PARAM$hipeparametertuning$hs <- makeParamSet(\n",
    "  makeIntegerParam(\"num_leaves\", lower = 2L, upper = 256L),\n",
    "  makeIntegerParam(\"min_data_in_leaf\", lower = 2L, upper = 8192L)\n",
    ")"
   ]
  },
  {
   "cell_type": "markdown",
   "id": "FEa1UuuAz4yj",
   "metadata": {
    "id": "FEa1UuuAz4yj"
   },
   "source": [
    "Función \"señora caja negra\"  que es llamada para verificar la realidad por la Bayesian Optimization"
   ]
  },
  {
   "cell_type": "code",
   "execution_count": 24,
   "id": "2c10f535-8d90-47d1-ac3d-9b4c24ec21d2",
   "metadata": {
    "id": "2c10f535-8d90-47d1-ac3d-9b4c24ec21d2"
   },
   "outputs": [],
   "source": [
    "# En  x llegan los parmaetros de la bayesiana\n",
    "#  devuelve la AUC en validate del modelo entrenado\n",
    "#  en el parametro x llegan los hiperparámetros que se estan optimizando\n",
    "\n",
    "EstimarGanancia_AUC_lightgbm <- function(x) {\n",
    "\n",
    "  message(format(Sys.time(), \"%a %b %d %X %Y\"))\n",
    "\n",
    "  # uno la lista de hiperparametros : fijos + variables\n",
    "  param_completo <- c(PARAM$lgbm$param_fijos, x)\n",
    "\n",
    "  # entreno LightGBM\n",
    "  modelo_train <- lgb.train(\n",
    "    data= dtrain,\n",
    "    valids= list(valid = dvalidate),\n",
    "    eval= \"auc\",\n",
    "    param= param_completo,\n",
    "    verbose= -100\n",
    "  )\n",
    "\n",
    "  # recupero la AUC en validation\n",
    "  AUC <- modelo_train$record_evals$valid$auc$eval[[modelo_train$best_iter]]\n",
    "\n",
    "  # esta es la forma de devolver un parametro extra\n",
    "  attr(AUC, \"extras\") <- list(\"num_iterations\"= modelo_train$best_iter)\n",
    "\n",
    "  # hago espacio en la memoria\n",
    "  rm(modelo_train)\n",
    "  gc(full= TRUE, verbose= FALSE)\n",
    "\n",
    "  return(AUC)\n",
    "}"
   ]
  },
  {
   "cell_type": "markdown",
   "id": "267a35d4-adaf-4271-a875-3864111333b7",
   "metadata": {
    "id": "267a35d4-adaf-4271-a875-3864111333b7"
   },
   "source": [
    "seteo de la Bayesian Optimization (complejo)\n",
    "<br> copiado y pegado de la documentación de la librería"
   ]
  },
  {
   "cell_type": "code",
   "execution_count": 25,
   "id": "43c2a92d-1041-46b8-bff2-47297f209ed2",
   "metadata": {
    "id": "43c2a92d-1041-46b8-bff2-47297f209ed2"
   },
   "outputs": [],
   "source": [
    "configureMlr(show.learner.output = FALSE)\n",
    "\n",
    "# configuro la busqueda bayesiana,  los hiperparametros que se van a optimizar\n",
    "# por favor, no desesperarse por lo complejo\n",
    "obj.fun <- makeSingleObjectiveFunction(\n",
    "    fn= EstimarGanancia_AUC_lightgbm, # la funcion que voy a maximizar\n",
    "    minimize= FALSE, # estoy Maximizando AUC\n",
    "    noisy= FALSE,\n",
    "    par.set= PARAM$hipeparametertuning$hs,\n",
    "    has.simple.signature= FALSE # paso los parametros en una lista\n",
    ")\n",
    "\n",
    "# cada 600 segundos guardo el resultado intermedio\n",
    "ctrl <- makeMBOControl(\n",
    "    save.on.disk.at.time= 600,\n",
    "    save.file.path= \"HT.RDATA\"\n",
    ")\n",
    "\n",
    "# indico la cantidad de iteraciones que va a tener la Bayesian Optimization\n",
    "ctrl <- setMBOControlTermination(\n",
    "    ctrl,\n",
    "    iters= PARAM$hipeparametertuning$num_interations  # cantidad de iteraciones inteligentes\n",
    ")\n",
    "\n",
    "# defino el método estandar para la creacion de los puntos iniciales\n",
    "#   los \"No Inteligentes\"\n",
    "ctrl <- setMBOControlInfill(ctrl, crit = makeMBOInfillCritEI())\n",
    "\n",
    "# mas configuraciones\n",
    "surr.km <- makeLearner(\n",
    "    \"regr.km\",\n",
    "    predict.type= \"se\",\n",
    "    covtype= \"matern3_2\",\n",
    "    control= list(trace = TRUE)\n",
    ")"
   ]
  },
  {
   "cell_type": "markdown",
   "id": "6c1e5645-d26f-4923-a53f-f30471a4c4e8",
   "metadata": {
    "id": "6c1e5645-d26f-4923-a53f-f30471a4c4e8"
   },
   "source": [
    "Corrida de la Bayesian Optimization,  aqui se hace el trabajo pesado\n",
    "<br> por favor no se asuste con los warnings que pudieran aparecer\n",
    "\n",
    "Si corrío a medias y llegó a las iteraciones inteligentes, en el archivo binario HT.RDATA quedó lo ya procesado y es utilizado para retomar la corrida desde lo último que llegó a grabar."
   ]
  },
  {
   "cell_type": "code",
   "execution_count": null,
   "id": "1f8cab3f-c7e2-4802-bfd1-5ad509922a4e",
   "metadata": {
    "id": "1f8cab3f-c7e2-4802-bfd1-5ad509922a4e",
    "scrolled": true
   },
   "outputs": [
    {
     "name": "stderr",
     "output_type": "stream",
     "text": [
      "Computing y column(s) for design. Not provided.\n",
      "\n",
      "Mon Jun 30 22:46:15 2025\n",
      "\n",
      "Mon Jun 30 22:53:24 2025\n",
      "\n",
      "Mon Jun 30 22:58:01 2025\n",
      "\n",
      "Mon Jun 30 23:05:11 2025\n",
      "\n",
      "Mon Jun 30 23:08:24 2025\n",
      "\n",
      "Mon Jun 30 23:13:48 2025\n",
      "\n",
      "Mon Jun 30 23:19:09 2025\n",
      "\n",
      "Mon Jun 30 23:27:45 2025\n",
      "\n",
      "[mbo] 0: num_leaves=118; min_data_in_leaf=6398 : y = 0.932 : 429.3 secs : initdesign\n",
      "\n",
      "[mbo] 0: num_leaves=163; min_data_in_leaf=3576 : y = 0.933 : 276.9 secs : initdesign\n",
      "\n",
      "[mbo] 0: num_leaves=55; min_data_in_leaf=5547 : y = 0.933 : 429.2 secs : initdesign\n",
      "\n",
      "[mbo] 0: num_leaves=244; min_data_in_leaf=803 : y = 0.933 : 193.0 secs : initdesign\n",
      "\n",
      "[mbo] 0: num_leaves=69; min_data_in_leaf=2531 : y = 0.933 : 324.3 secs : initdesign\n",
      "\n",
      "[mbo] 0: num_leaves=215; min_data_in_leaf=4238 : y = 0.933 : 321.4 secs : initdesign\n",
      "\n",
      "[mbo] 0: num_leaves=2; min_data_in_leaf=7826 : y = 0.915 : 515.8 secs : initdesign\n",
      "\n",
      "[mbo] 0: num_leaves=147; min_data_in_leaf=1496 : y = 0.933 : 231.9 secs : initdesign\n",
      "\n",
      "Saved the current state after iteration 1 in the file HT.RDATA.\n",
      "\n",
      "Mon Jun 30 23:31:39 2025\n",
      "\n"
     ]
    }
   ],
   "source": [
    "# inicio la optimizacion bayesiana\n",
    "\n",
    "if (!file.exists(\"HT.RDATA\")) {\n",
    "  bayesiana_salida <- mbo(obj.fun, learner= surr.km, control= ctrl)\n",
    "} else {\n",
    "  bayesiana_salida <- mboContinue(\"HT.RDATA\") # retomo en caso que ya exista\n",
    "}"
   ]
  },
  {
   "cell_type": "markdown",
   "id": "36307612-964f-4df3-907a-1bc3c095f178",
   "metadata": {
    "id": "36307612-964f-4df3-907a-1bc3c095f178"
   },
   "source": [
    "la bayesian optimization ha corrido, extraigo los mejores hiperparametros"
   ]
  },
  {
   "cell_type": "code",
   "execution_count": null,
   "id": "8c061a2a-3341-4006-a154-c95bb6cfd407",
   "metadata": {
    "id": "8c061a2a-3341-4006-a154-c95bb6cfd407"
   },
   "outputs": [],
   "source": [
    "# almaceno los resultados de la Bayesian Optimization\n",
    "# y capturo los mejores hiperparametros encontrados\n",
    "\n",
    "tb_bayesiana <- as.data.table(bayesiana_salida$opt.path)\n",
    "\n",
    "# ordeno en forma descendente por AUC = y\n",
    "setorder(tb_bayesiana, -y, -num_iterations)\n",
    "\n",
    "# grabo para eventualmente poder utilizarlos en OTRA corrida\n",
    "fwrite( tb_bayesiana,\n",
    "  file=\"BO_log.txt\",\n",
    "  sep=\"\\t\"\n",
    ")\n",
    "\n",
    "# los mejores hiperparámetros son los que quedaron en el registro 1 de la tabla\n",
    "PARAM$out$lgbm$mejores_hiperparametros <- tb_bayesiana[\n",
    "  1, # el primero es el de mejor AUC\n",
    "  list(num_leaves, min_data_in_leaf, num_iterations)\n",
    "]\n",
    "\n",
    "print(PARAM$out$lgbm$mejores_hiperparametros)"
   ]
  },
  {
   "cell_type": "markdown",
   "id": "ddb554cb-1d96-4f6b-ae1c-c9a076f8dbdc",
   "metadata": {
    "id": "ddb554cb-1d96-4f6b-ae1c-c9a076f8dbdc"
   },
   "source": [
    "### 7.3.3 Produccion"
   ]
  },
  {
   "cell_type": "markdown",
   "id": "c39492c3-756f-47a5-8747-93ade8275306",
   "metadata": {
    "id": "c39492c3-756f-47a5-8747-93ade8275306"
   },
   "source": [
    "### Final Training\n",
    "Construyo el modelo final, que es uno solo, no hace ningun tipo de particion < training, validation, testing>]"
   ]
  },
  {
   "cell_type": "markdown",
   "id": "xhKi_G_sYQqq",
   "metadata": {
    "id": "xhKi_G_sYQqq"
   },
   "source": [
    "#### Final Training Dataset\n",
    "\n",
    "Aqui esta la gran decision de en qué meses hago el Final Training\n",
    "<br> debo utilizar los mejores hiperparámetros que encontré en la optimización bayesiana"
   ]
  },
  {
   "cell_type": "code",
   "execution_count": null,
   "id": "qyHfS_X0zd7o",
   "metadata": {
    "id": "qyHfS_X0zd7o"
   },
   "outputs": [],
   "source": [
    "PARAM$trainingstrategy$final_train <- meses_final_train\n",
    "\n",
    "dataset[, fold_final_train := foto_mes %in% PARAM$trainingstrategy$final_train ]\n",
    "\n",
    "# creo el dfinal_train en formato  LightGBM\n",
    "dfinal_train <- lgb.Dataset(\n",
    "  data= data.matrix(dataset[fold_final_train == TRUE, campos_buenos, with= FALSE]),\n",
    "  label= dataset[fold_final_train == TRUE, clase01],\n",
    "  free_raw_data= TRUE\n",
    ")\n",
    "\n",
    "nrow( dfinal_train) # verifico el tamaño"
   ]
  },
  {
   "cell_type": "markdown",
   "id": "HATRyklxYUpT",
   "metadata": {
    "id": "HATRyklxYUpT"
   },
   "source": [
    "#### Final Training Hyperparameters"
   ]
  },
  {
   "cell_type": "code",
   "execution_count": null,
   "id": "d6b9f33c-e0a0-4ea6-8169-4a6180cc5d01",
   "metadata": {
    "id": "d6b9f33c-e0a0-4ea6-8169-4a6180cc5d01"
   },
   "outputs": [],
   "source": [
    "# uno los parametros fijos y los mejores encontrados de los variables\n",
    "fijos <- copy(PARAM$lgbm$param_fijos)\n",
    "\n",
    "# quito lo que optimice en la Bayesian Optimization\n",
    "fijos$num_iterations <- NULL\n",
    "fijos$early_stopping_rounds <- NULL\n",
    "\n"
   ]
  },
  {
   "cell_type": "markdown",
   "id": "2dab2e2d-1c9a-4636-baf4-714751a2b5ce",
   "metadata": {
    "id": "79u0ZvjJZblE"
   },
   "source": [
    "#### Prediccion modelo con múltiples semillas\n",
    "\n",
    "Hacemos un bucle que por cada semilla entrena el modelo y predice los datos"
   ]
  },
  {
   "cell_type": "code",
   "execution_count": null,
   "id": "3440bb52-aba3-4a32-b594-4779134f9a0a",
   "metadata": {},
   "outputs": [],
   "source": [
    "PARAM$trainingstrategy$future <- c(202106, 202107)  # c(202109)\n",
    "\n",
    "for (semilla in c(277073, 470779, 314159, 358979, 589793)){\n",
    "    fijos$seed = semilla\n",
    "\n",
    "    # agrego a los hiperparametros fijos los que encontre con la Bayesian Optimization\n",
    "    param_final <- c(fijos, PARAM$out$lgbm$mejores_hiperparametros)\n",
    "    \n",
    "    # Entrenamiento del modelo\n",
    "    final_model <- lgb.train(\n",
    "      data= dfinal_train,\n",
    "      param= param_final,\n",
    "      verbose= -100\n",
    "    )\n",
    "\n",
    "    # grabo a disco el modelo en un formato para seres humanos ... ponele ...\n",
    "    lgb.save(final_model, paste0(\"modelo_\", semilla, \".txt\"))\n",
    "\n",
    "    # ahora imprimo la importancia de variables\n",
    "    tb_importancia <- as.data.table(lgb.importance(final_model))\n",
    "    archivo_importancia <- paste0(\"impo_\", semilla, \".txt\")\n",
    "\n",
    "    fwrite( tb_importancia,\n",
    "      file= archivo_importancia,\n",
    "      sep= \"\\t\"\n",
    "    )\n",
    "\n",
    "    #Predicción para datos del futuro\n",
    "    dfuture <- dataset[ foto_mes %in% PARAM$trainingstrategy$future ]    \n",
    "\n",
    "    prediccion <- predict(\n",
    "      final_model,\n",
    "      data.matrix(dfuture[, campos_buenos, with= FALSE])\n",
    "    )\n",
    "\n",
    "    tb_prediccion <- dfuture[, list(numero_de_cliente, clase_ternaria)]\n",
    "    tb_prediccion[, prob := prediccion]\n",
    "\n",
    "    # grabo las probabilidad del modelo\n",
    "    #  me va a ser util para hacer Ensembles de modelos\n",
    "    fwrite(tb_prediccion,\n",
    "      file= paste0(\"prediccion_\", semilla, \".txt\"),\n",
    "      sep= \"\\t\"\n",
    "    )\n",
    "\n",
    "    # Elimino cosas de la memoria por las dudas\n",
    "    rm(final_model)\n",
    "    rm(tb_importancia)\n",
    "    rm(dfuture)\n",
    "    rm(prediccion)\n",
    "    rm(tb_prediccion)\n",
    "    \n",
    "}"
   ]
  },
  {
   "cell_type": "code",
   "execution_count": null,
   "id": "1b615a62-20cc-4e95-9af2-6b6db38d5efb",
   "metadata": {
    "id": "1b615a62-20cc-4e95-9af2-6b6db38d5efb"
   },
   "outputs": [],
   "source": [
    "format(Sys.time(), \"%a %b %d %X %Y\")"
   ]
  },
  {
   "cell_type": "code",
   "execution_count": null,
   "id": "2028b508-85a4-4b71-a187-07e8a848c564",
   "metadata": {},
   "outputs": [],
   "source": []
  }
 ],
 "metadata": {
  "colab": {
   "provenance": []
  },
  "kernelspec": {
   "display_name": "R",
   "language": "R",
   "name": "ir"
  },
  "language_info": {
   "codemirror_mode": "r",
   "file_extension": ".r",
   "mimetype": "text/x-r-source",
   "name": "R",
   "pygments_lexer": "r",
   "version": "4.4.3"
  }
 },
 "nbformat": 4,
 "nbformat_minor": 5
}
